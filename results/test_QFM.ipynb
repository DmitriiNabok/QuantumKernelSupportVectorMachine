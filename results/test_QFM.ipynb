{
 "cells": [
  {
   "cell_type": "code",
   "execution_count": 1,
   "id": "46c61738-603b-4ea3-899a-541258b6d1c7",
   "metadata": {},
   "outputs": [],
   "source": [
    "from qksvm.QuantumFeatureMap import QuantumFeatureMap"
   ]
  },
  {
   "cell_type": "markdown",
   "id": "950f5b10-97c2-4403-9098-a2b1a499d220",
   "metadata": {},
   "source": [
    "## SCALE parameter"
   ]
  },
  {
   "cell_type": "code",
   "execution_count": 2,
   "id": "215bfc5e-b0c7-429d-bc0a-e0e854c82bbf",
   "metadata": {},
   "outputs": [
    {
     "name": "stdout",
     "output_type": "stream",
     "text": [
      "\n",
      "Scale= False  alpha= None\n",
      "     ┌────────────┐       \n",
      "q_0: ┤ Ry(x[0]*α) ├───■───\n",
      "     ├────────────┤ ┌─┴─┐ \n",
      "q_1: ┤ Ry(x[1]*α) ├─┤ X ├─\n",
      "     └────────────┘ └───┘ \n",
      "\n",
      "Scale= False  alpha= 2.0\n",
      "     ┌──────────────┐       \n",
      "q_0: ┤ Ry(2.0*x[0]) ├───■───\n",
      "     ├──────────────┤ ┌─┴─┐ \n",
      "q_1: ┤ Ry(2.0*x[1]) ├─┤ X ├─\n",
      "     └──────────────┘ └───┘ \n",
      "\n",
      "Scale= True\n",
      "     ┌───────────────┐       \n",
      "q_0: ┤ Ry(x[0]*θ[0]) ├───■───\n",
      "     ├───────────────┤ ┌─┴─┐ \n",
      "q_1: ┤ Ry(x[1]*θ[0]) ├─┤ X ├─\n",
      "     └───────────────┘ └───┘ \n"
     ]
    }
   ],
   "source": [
    "scale = False\n",
    "alpha = None\n",
    "fm = QuantumFeatureMap(\n",
    "    num_features=2, \n",
    "    num_qubits=2,\n",
    "    num_layers=1,\n",
    "    gates=['RY', 'cx', ],\n",
    "    repeat=True,\n",
    "    scale=scale, alpha=alpha,\n",
    ")\n",
    "print('\\nScale=', scale, ' alpha=', alpha)\n",
    "print(fm.draw(plot_barriers=False, fold=120))\n",
    "\n",
    "scale = False\n",
    "alpha = 2.0\n",
    "fm = QuantumFeatureMap(\n",
    "    num_features=2, \n",
    "    num_qubits=2,\n",
    "    num_layers=1,\n",
    "    gates=['RY', 'cx', ],\n",
    "    repeat=True,\n",
    "    scale=scale, alpha=alpha,\n",
    ")\n",
    "print('\\nScale=', scale, ' alpha=', alpha)\n",
    "print(fm.draw(plot_barriers=False, fold=120))\n",
    "\n",
    "scale = True\n",
    "fm = QuantumFeatureMap(\n",
    "    num_features=2, \n",
    "    num_qubits=2,\n",
    "    num_layers=1,\n",
    "    gates=['RY', 'cx', ],\n",
    "    repeat=scale,\n",
    "    scale=True, alpha=2.0,\n",
    ")\n",
    "print('\\nScale=', scale)\n",
    "print(fm.draw(plot_barriers=False, fold=120))"
   ]
  },
  {
   "cell_type": "markdown",
   "id": "a103a3ec-e480-46be-aeeb-70a8107dd8df",
   "metadata": {},
   "source": [
    "## REPEAT parameter"
   ]
  },
  {
   "cell_type": "code",
   "execution_count": 3,
   "id": "a663a4e5-c1e7-4aa3-86af-8291d0a04c23",
   "metadata": {},
   "outputs": [
    {
     "name": "stdout",
     "output_type": "stream",
     "text": [
      "Repeat= False\n",
      "     ┌────────────┐                 ┌────────────┐                 \n",
      "q_0: ┤ Ry(x[0]*α) ├───■─────────────┤ Ry(x[0]*α) ├───■─────────────\n",
      "     ├────────────┤ ┌─┴─┐           ├────────────┤ ┌─┴─┐           \n",
      "q_1: ┤ Ry(x[1]*α) ├─┤ X ├──■────────┤ Ry(x[1]*α) ├─┤ X ├──■────────\n",
      "     └────────────┘ └───┘┌─┴─┐      └────────────┘ └───┘┌─┴─┐      \n",
      "q_2: ────────────────────┤ X ├──■───────────────────────┤ X ├──■───\n",
      "                         └───┘┌─┴─┐                     └───┘┌─┴─┐ \n",
      "q_3: ─────────────────────────┤ X ├──────────────────────────┤ X ├─\n",
      "                              └───┘                          └───┘ \n",
      "Repeat= True\n",
      "     ┌────────────┐                 ┌────────────┐                 \n",
      "q_0: ┤ Ry(x[0]*α) ├───■─────────────┤ Ry(x[0]*α) ├───■─────────────\n",
      "     ├────────────┤ ┌─┴─┐           ├────────────┤ ┌─┴─┐           \n",
      "q_1: ┤ Ry(x[1]*α) ├─┤ X ├──■────────┤ Ry(x[1]*α) ├─┤ X ├──■────────\n",
      "     ├────────────┤ └───┘┌─┴─┐      ├────────────┤ └───┘┌─┴─┐      \n",
      "q_2: ┤ Ry(x[0]*α) ├──────┤ X ├──■───┤ Ry(x[0]*α) ├──────┤ X ├──■───\n",
      "     ├────────────┤      └───┘┌─┴─┐ ├────────────┤      └───┘┌─┴─┐ \n",
      "q_3: ┤ Ry(x[1]*α) ├───────────┤ X ├─┤ Ry(x[1]*α) ├───────────┤ X ├─\n",
      "     └────────────┘           └───┘ └────────────┘           └───┘ \n"
     ]
    }
   ],
   "source": [
    "from qksvm.QuantumFeatureMap import QuantumFeatureMap\n",
    "\n",
    "repeat = False\n",
    "fm = QuantumFeatureMap(\n",
    "    num_features=2, \n",
    "    num_qubits=4,\n",
    "    num_layers=2,\n",
    "    gates=['RY', 'cx', ],\n",
    "    repeat=repeat,\n",
    "    scale=False,\n",
    ")\n",
    "print('Repeat=', repeat)\n",
    "print(fm.draw(plot_barriers=False, fold=120))\n",
    "\n",
    "repeat = True\n",
    "fm = QuantumFeatureMap(\n",
    "    num_features=2, \n",
    "    num_qubits=4,\n",
    "    num_layers=2,\n",
    "    gates=['RY', 'cx', ],\n",
    "    repeat=repeat,\n",
    "    scale=False,\n",
    ")\n",
    "print('Repeat=', repeat)\n",
    "print(fm.draw(plot_barriers=False, fold=120))"
   ]
  },
  {
   "cell_type": "code",
   "execution_count": 4,
   "id": "db1766e9-45ca-4997-b37b-44d8767b0570",
   "metadata": {},
   "outputs": [
    {
     "name": "stdout",
     "output_type": "stream",
     "text": [
      "Repeat= False\n",
      "     ┌────────────┐ ┌────────────┐ ┌────────────┐            ┌────────────┐              ┌────────────┐ ┌────────────┐ »\n",
      "q_0: ┤ Rx(x[0]*α) ├─┤ Ry(x[3]*α) ├─┤ Rz(x[6]*α) ├───■────────┤ Rx(x[9]*α) ├─────■────────┤ Rx(x[0]*α) ├─┤ Ry(x[3]*α) ├─»\n",
      "     ├────────────┤ ├────────────┤ ├────────────┤ ┌─┴─┐      └────────────┘   ┌─┴─┐      ├────────────┤ ├────────────┤ »\n",
      "q_1: ┤ Rx(x[1]*α) ├─┤ Ry(x[4]*α) ├─┤ Rz(x[7]*α) ├─┤ X ├──■────────────────────┤ X ├──■───┤ Rx(x[1]*α) ├─┤ Ry(x[4]*α) ├─»\n",
      "     ├────────────┤ ├────────────┤ ├────────────┤ └───┘┌─┴─┐                  └───┘┌─┴─┐ ├────────────┤ ├────────────┤ »\n",
      "q_2: ┤ Rx(x[2]*α) ├─┤ Ry(x[5]*α) ├─┤ Rz(x[8]*α) ├──────┤ X ├───────────────────────┤ X ├─┤ Rx(x[2]*α) ├─┤ Ry(x[5]*α) ├─»\n",
      "     └────────────┘ └────────────┘ └────────────┘      └───┘                       └───┘ └────────────┘ └────────────┘ »\n",
      "«     ┌────────────┐            ┌────────────┐              \n",
      "«q_0: ┤ Rz(x[6]*α) ├───■────────┤ Rx(x[9]*α) ├─────■────────\n",
      "«     ├────────────┤ ┌─┴─┐      └────────────┘   ┌─┴─┐      \n",
      "«q_1: ┤ Rz(x[7]*α) ├─┤ X ├──■────────────────────┤ X ├──■───\n",
      "«     ├────────────┤ └───┘┌─┴─┐                  └───┘┌─┴─┐ \n",
      "«q_2: ┤ Rz(x[8]*α) ├──────┤ X ├───────────────────────┤ X ├─\n",
      "«     └────────────┘      └───┘                       └───┘ \n",
      "Repeat= True\n",
      "     ┌────────────┐ ┌────────────┐ ┌────────────┐            ┌────────────┐ ┌────────────┐ ┌────────────┐            »\n",
      "q_0: ┤ Rx(x[0]*α) ├─┤ Ry(x[3]*α) ├─┤ Rz(x[6]*α) ├───■────────┤ Rx(x[9]*α) ├─┤ Ry(x[2]*α) ├─┤ Rz(x[5]*α) ├───■────────»\n",
      "     ├────────────┤ ├────────────┤ ├────────────┤ ┌─┴─┐      ├────────────┤ ├────────────┤ ├────────────┤ ┌─┴─┐      »\n",
      "q_1: ┤ Rx(x[1]*α) ├─┤ Ry(x[4]*α) ├─┤ Rz(x[7]*α) ├─┤ X ├──■───┤ Rx(x[0]*α) ├─┤ Ry(x[3]*α) ├─┤ Rz(x[6]*α) ├─┤ X ├──■───»\n",
      "     ├────────────┤ ├────────────┤ ├────────────┤ └───┘┌─┴─┐ ├────────────┤ ├────────────┤ ├────────────┤ └───┘┌─┴─┐ »\n",
      "q_2: ┤ Rx(x[2]*α) ├─┤ Ry(x[5]*α) ├─┤ Rz(x[8]*α) ├──────┤ X ├─┤ Rx(x[1]*α) ├─┤ Ry(x[4]*α) ├─┤ Rz(x[7]*α) ├──────┤ X ├─»\n",
      "     └────────────┘ └────────────┘ └────────────┘      └───┘ └────────────┘ └────────────┘ └────────────┘      └───┘ »\n",
      "«     ┌────────────┐ ┌────────────┐ ┌────────────┐            ┌────────────┐ ┌────────────┐ ┌────────────┐            \n",
      "«q_0: ┤ Rx(x[8]*α) ├─┤ Ry(x[1]*α) ├─┤ Rz(x[4]*α) ├───■────────┤ Rx(x[7]*α) ├─┤ Ry(x[0]*α) ├─┤ Rz(x[3]*α) ├───■────────\n",
      "«     ├────────────┤ ├────────────┤ ├────────────┤ ┌─┴─┐      ├────────────┤ ├────────────┤ ├────────────┤ ┌─┴─┐      \n",
      "«q_1: ┤ Rx(x[9]*α) ├─┤ Ry(x[2]*α) ├─┤ Rz(x[5]*α) ├─┤ X ├──■───┤ Rx(x[8]*α) ├─┤ Ry(x[1]*α) ├─┤ Rz(x[4]*α) ├─┤ X ├──■───\n",
      "«     ├────────────┤ ├────────────┤ ├────────────┤ └───┘┌─┴─┐ ├────────────┤ ├────────────┤ ├────────────┤ └───┘┌─┴─┐ \n",
      "«q_2: ┤ Rx(x[0]*α) ├─┤ Ry(x[3]*α) ├─┤ Rz(x[6]*α) ├──────┤ X ├─┤ Rx(x[9]*α) ├─┤ Ry(x[2]*α) ├─┤ Rz(x[5]*α) ├──────┤ X ├─\n",
      "«     └────────────┘ └────────────┘ └────────────┘      └───┘ └────────────┘ └────────────┘ └────────────┘      └───┘ \n"
     ]
    }
   ],
   "source": [
    "repeat = False\n",
    "fm = QuantumFeatureMap(\n",
    "    num_features=10, \n",
    "    num_qubits=3,\n",
    "    num_layers=4,\n",
    "    gates=['RX', 'RY', 'RZ', 'CX', ],\n",
    "    repeat=repeat,\n",
    "    scale=False,\n",
    ")\n",
    "print('Repeat=', repeat)\n",
    "print(fm.draw(plot_barriers=False, fold=120))\n",
    "\n",
    "repeat = True\n",
    "fm = QuantumFeatureMap(\n",
    "    num_features=10, \n",
    "    num_qubits=3,\n",
    "    num_layers=4,\n",
    "    gates=['RX', 'RY', 'RZ', 'CX', ],\n",
    "    repeat=repeat,\n",
    "    scale=False,\n",
    ")\n",
    "print('Repeat=', repeat)\n",
    "print(fm.draw(plot_barriers=False, fold=120))"
   ]
  },
  {
   "cell_type": "markdown",
   "id": "10af2362-2a2b-4916-ad4e-e488c97732d8",
   "metadata": {},
   "source": [
    "## ENTANGLEMENT parameter"
   ]
  },
  {
   "cell_type": "code",
   "execution_count": 5,
   "id": "3f8b71c3-f628-466a-9cff-4d8b4b5fb660",
   "metadata": {},
   "outputs": [
    {
     "name": "stdout",
     "output_type": "stream",
     "text": [
      "     ┌───────────────┐            \n",
      "q_0: ┤ Ry(x[0]*θ[0]) ├───■────────\n",
      "     ├───────────────┤ ┌─┴─┐      \n",
      "q_1: ┤ Ry(x[1]*θ[0]) ├─┤ X ├──■───\n",
      "     ├───────────────┤ └───┘┌─┴─┐ \n",
      "q_2: ┤ Ry(x[0]*θ[0]) ├──────┤ X ├─\n",
      "     └───────────────┘      └───┘ \n"
     ]
    }
   ],
   "source": [
    "fm = QuantumFeatureMap(\n",
    "    num_features=2, \n",
    "    num_qubits=3,\n",
    "    num_layers=1,\n",
    "    gates=['RY', 'cx', ],\n",
    "    repeat=True,\n",
    "    scale=True,\n",
    "    entanglement='linear',\n",
    ")\n",
    "print(fm.draw(plot_barriers=False, fold=120))"
   ]
  },
  {
   "cell_type": "code",
   "execution_count": 6,
   "id": "dea58d73-8a71-4155-b471-853815cbc5cf",
   "metadata": {},
   "outputs": [
    {
     "name": "stdout",
     "output_type": "stream",
     "text": [
      "     ┌───────────────┐           ┌───┐ \n",
      "q_0: ┤ Ry(x[0]*θ[0]) ├───■───────┤ X ├─\n",
      "     ├───────────────┤ ┌─┴─┐     └─┬─┘ \n",
      "q_1: ┤ Ry(x[1]*θ[0]) ├─┤ X ├──■────┼───\n",
      "     ├───────────────┤ └───┘┌─┴─┐  │   \n",
      "q_2: ┤ Ry(x[0]*θ[0]) ├──────┤ X ├──■───\n",
      "     └───────────────┘      └───┘      \n"
     ]
    }
   ],
   "source": [
    "fm = QuantumFeatureMap(\n",
    "    num_features=2, \n",
    "    num_qubits=3,\n",
    "    num_layers=1,\n",
    "    gates=['RY', 'cx', ],\n",
    "    repeat=True,\n",
    "    scale=True,\n",
    "    entanglement='ring',\n",
    ")\n",
    "print(fm.draw(plot_barriers=False, fold=120))"
   ]
  },
  {
   "cell_type": "code",
   "execution_count": 7,
   "id": "9ecbca81-5282-453c-b70d-b33c49be830b",
   "metadata": {},
   "outputs": [
    {
     "name": "stdout",
     "output_type": "stream",
     "text": [
      "     ┌───────────────┐           ┌───┐     ┌───┐      \n",
      "q_0: ┤ Ry(x[0]*θ[0]) ├───■────■──┤ X ├─────┤ X ├──────\n",
      "     ├───────────────┤ ┌─┴─┐  │  └─┬─┘     └─┬─┘┌───┐ \n",
      "q_1: ┤ Ry(x[1]*θ[0]) ├─┤ X ├──┼────■────■────┼──┤ X ├─\n",
      "     ├───────────────┤ └───┘┌─┴─┐     ┌─┴─┐  │  └─┬─┘ \n",
      "q_2: ┤ Ry(x[0]*θ[0]) ├──────┤ X ├─────┤ X ├──■────■───\n",
      "     └───────────────┘      └───┘     └───┘           \n"
     ]
    }
   ],
   "source": [
    "fm = QuantumFeatureMap(\n",
    "    num_features=2, \n",
    "    num_qubits=3,\n",
    "    num_layers=1,\n",
    "    gates=['RY', 'cx', ],\n",
    "    repeat=True,\n",
    "    scale=True,\n",
    "    entanglement='full',\n",
    ")\n",
    "print(fm.draw(plot_barriers=False, fold=120))"
   ]
  },
  {
   "cell_type": "code",
   "execution_count": 8,
   "id": "6e1c24ee-b13b-411e-a035-232595a51f89",
   "metadata": {},
   "outputs": [
    {
     "name": "stdout",
     "output_type": "stream",
     "text": [
      "     ┌───────────────┐                 \n",
      "q_0: ┤ Ry(x[0]*θ[0]) ├───■────■────■───\n",
      "     ├───────────────┤ ┌─┴─┐┌─┴─┐┌─┴─┐ \n",
      "q_1: ┤ Ry(x[1]*θ[0]) ├─┤ X ├┤ X ├┤ X ├─\n",
      "     └───────────────┘ └───┘└───┘└───┘ \n"
     ]
    }
   ],
   "source": [
    "fm = QuantumFeatureMap(\n",
    "    num_features=2, \n",
    "    num_qubits=2,\n",
    "    num_layers=1,\n",
    "    gates=['RY', 'cx', ],\n",
    "    repeat=True,\n",
    "    scale=True,\n",
    "    entanglement=[[0,1], [0,1], [0,1]],\n",
    ")\n",
    "print(fm.draw(plot_barriers=False, fold=120))"
   ]
  },
  {
   "cell_type": "code",
   "execution_count": 9,
   "id": "20a0dd54-cc20-4858-be6d-231bd787eace",
   "metadata": {},
   "outputs": [
    {
     "name": "stdout",
     "output_type": "stream",
     "text": [
      "     ┌───────────────┐           ┌───┐┌───┐ \n",
      "q_0: ┤ Ry(x[0]*θ[0]) ├───■────■──┤ X ├┤ X ├─\n",
      "     ├───────────────┤ ┌─┴─┐┌─┴─┐└─┬─┘└─┬─┘ \n",
      "q_1: ┤ Ry(x[1]*θ[0]) ├─┤ X ├┤ X ├──■────■───\n",
      "     └───────────────┘ └───┘└───┘           \n"
     ]
    }
   ],
   "source": [
    "fm = QuantumFeatureMap(\n",
    "    num_features=2, \n",
    "    num_qubits=2,\n",
    "    num_layers=1,\n",
    "    gates=['RY', 'cx', ],\n",
    "    repeat=True,\n",
    "    scale=True,\n",
    "    entanglement=[[0,1], [0,1], [1,0], [1,0]],\n",
    ")\n",
    "print(fm.draw(plot_barriers=False, fold=120))"
   ]
  },
  {
   "cell_type": "code",
   "execution_count": null,
   "id": "5d450ee9-8467-4d56-8ad1-9ba4e394975d",
   "metadata": {},
   "outputs": [],
   "source": []
  }
 ],
 "metadata": {
  "kernelspec": {
   "display_name": "qksvm",
   "language": "python",
   "name": "qksvm"
  },
  "language_info": {
   "codemirror_mode": {
    "name": "ipython",
    "version": 3
   },
   "file_extension": ".py",
   "mimetype": "text/x-python",
   "name": "python",
   "nbconvert_exporter": "python",
   "pygments_lexer": "ipython3",
   "version": "3.10.4"
  }
 },
 "nbformat": 4,
 "nbformat_minor": 5
}
