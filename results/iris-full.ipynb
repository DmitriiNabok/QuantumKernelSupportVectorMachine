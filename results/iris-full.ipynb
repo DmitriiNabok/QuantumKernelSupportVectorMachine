{
 "cells": [
  {
   "cell_type": "markdown",
   "id": "75060334-3abb-4a3a-8ddd-6a5328432c7a",
   "metadata": {},
   "source": [
    "# Global imports"
   ]
  },
  {
   "cell_type": "code",
   "execution_count": 1,
   "id": "fe8009fc-408d-4fbd-90eb-ddc776b16012",
   "metadata": {
    "tags": []
   },
   "outputs": [],
   "source": [
    "# External imports\n",
    "import pandas as pd\n",
    "import numpy as np\n",
    "from collections import Counter\n",
    "\n",
    "# Sklearn imports\n",
    "from sklearn.preprocessing import MaxAbsScaler, MinMaxScaler\n",
    "from sklearn.model_selection import train_test_split, StratifiedShuffleSplit, StratifiedKFold, GridSearchCV\n",
    "from sklearn.svm import SVC\n",
    "from sklearn import metrics\n",
    "from sklearn.datasets import load_iris\n",
    "from sklearn.multiclass import OneVsRestClassifier\n",
    "from sklearn.model_selection import cross_validate, cross_val_predict\n",
    "\n",
    "# Customized score functions\n",
    "from qksvm.scores import get_scores, print_scores, print_cv_scores\n",
    "from qksvm.QuantumFeatureMap import QuantumFeatureMap\n",
    "from qksvm.QKSVC import QKSVC\n",
    "\n",
    "seed = 12345\n",
    "np.random.seed(seed)"
   ]
  },
  {
   "cell_type": "code",
   "execution_count": 2,
   "id": "ef9c1c04-f11f-47a9-b39f-7a38c93c46cb",
   "metadata": {},
   "outputs": [],
   "source": [
    "def print_scores(score):\n",
    "    print('Accuracy: {:.2f} +- {:.2f}'.format(\n",
    "        np.mean(score['test_balanced_accuracy']), \n",
    "        np.std(score['test_balanced_accuracy']), )\n",
    "    )\n",
    "    print('      F1: {:.2f} +- {:.2f}'.format(\n",
    "        np.mean(score['test_f1_macro']), \n",
    "        np.std(score['test_f1_macro']), )\n",
    "    )\n",
    "    print('     MCC: {:.2f} +- {:.2f}'.format(\n",
    "        np.mean(score['test_matthews_corrcoef']), \n",
    "        np.std(score['test_matthews_corrcoef']), )\n",
    "    )"
   ]
  },
  {
   "cell_type": "markdown",
   "id": "9b5cb14a-12a6-46d7-b646-84882147ad31",
   "metadata": {},
   "source": [
    "# Dataset"
   ]
  },
  {
   "cell_type": "code",
   "execution_count": 3,
   "id": "e33e6691-82dd-4a87-a6ed-388063325eee",
   "metadata": {},
   "outputs": [
    {
     "name": "stdout",
     "output_type": "stream",
     "text": [
      "(150, 4)\n",
      "Counter({0: 50, 1: 50, 2: 50})\n"
     ]
    }
   ],
   "source": [
    "# Load data\n",
    "iris = load_iris()\n",
    "\n",
    "X = iris.data[:, :]\n",
    "y = iris.target\n",
    "\n",
    "print(X.shape)\n",
    "print(Counter(y))"
   ]
  },
  {
   "cell_type": "code",
   "execution_count": 4,
   "id": "3ef82d82-642b-4d7a-83ff-674d66817764",
   "metadata": {},
   "outputs": [],
   "source": [
    "from sklearn.preprocessing import MinMaxScaler\n",
    "from sklearn.model_selection import train_test_split\n",
    "\n",
    "xmin = -1; xmax = 1\n",
    "X = MinMaxScaler(feature_range=(xmin, xmax)).fit_transform(X)\n",
    "axes = [xmin, xmax, xmin, xmax]\n",
    "\n",
    "train_size = 0.8\n",
    "test_size = 0.2\n",
    "X_train, X_test, y_train, y_test = train_test_split(\n",
    "    X, y, \n",
    "    train_size=train_size, test_size=test_size,\n",
    "    stratify=y, random_state=seed\n",
    ")"
   ]
  },
  {
   "cell_type": "markdown",
   "id": "11aff600-bb50-4be0-beec-4297d854b2d4",
   "metadata": {},
   "source": [
    "# RBF-SVM"
   ]
  },
  {
   "cell_type": "code",
   "execution_count": 5,
   "id": "ce1988c6-d5d9-4f8c-8c53-d114107b080e",
   "metadata": {},
   "outputs": [
    {
     "name": "stdout",
     "output_type": "stream",
     "text": [
      "Best grid search parameters: {'C': 1, 'gamma': 0.8}\n",
      "Best training score: 0.9833333333333334\n",
      "Train set:\n",
      "              precision    recall  f1-score   support\n",
      "\n",
      "           0       1.00      1.00      1.00        40\n",
      "           1       0.97      0.97      0.97        40\n",
      "           2       0.97      0.97      0.97        40\n",
      "\n",
      "    accuracy                           0.98       120\n",
      "   macro avg       0.98      0.98      0.98       120\n",
      "weighted avg       0.98      0.98      0.98       120\n",
      "\n",
      "Test set:\n",
      "              precision    recall  f1-score   support\n",
      "\n",
      "           0       1.00      1.00      1.00        10\n",
      "           1       1.00      0.90      0.95        10\n",
      "           2       0.91      1.00      0.95        10\n",
      "\n",
      "    accuracy                           0.97        30\n",
      "   macro avg       0.97      0.97      0.97        30\n",
      "weighted avg       0.97      0.97      0.97        30\n",
      "\n",
      "Accuracy: 0.97\n",
      "F1: 1.00 0.95 0.95\n",
      "MCC: 0.95\n"
     ]
    }
   ],
   "source": [
    "param_grid = {\n",
    "    \"gamma\": [0.01, 0.1, 0.2, 0.4, 0.6, 0.8, 1.0, 1.2, 1.4, 1.6, 1.8, 2.0, 5.0, 10.0],\n",
    "    \"C\": [1, 2, 4, 6, 8, 10, 100],\n",
    "}\n",
    "\n",
    "gs = GridSearchCV(\n",
    "    estimator=SVC(kernel='rbf', random_state=seed),\n",
    "    param_grid=param_grid,\n",
    "    scoring='balanced_accuracy',\n",
    "    n_jobs=1,\n",
    "    refit=True,\n",
    "    cv=StratifiedKFold(n_splits=5, shuffle=True, random_state=seed),\n",
    ")\n",
    "gs.fit(X_train, y_train)\n",
    "\n",
    "print('Best grid search parameters:', gs.best_params_)\n",
    "print('Best training score:', gs.best_score_)\n",
    "clf = OneVsRestClassifier(gs.best_estimator_)\n",
    "clf.fit(X_train, y_train)\n",
    "\n",
    "print('Train set:')\n",
    "y_pred = clf.predict(X_train)\n",
    "print(metrics.classification_report(y_true=y_train, y_pred=y_pred, digits=2))\n",
    "\n",
    "print('Test set:')\n",
    "y_pred = clf.predict(X_test)\n",
    "print(metrics.classification_report(y_true=y_test, y_pred=y_pred, digits=2))\n",
    "\n",
    "y_pred = clf.predict(X_test)\n",
    "acc = metrics.balanced_accuracy_score(y_true=y_test, y_pred=y_pred)\n",
    "f1  = metrics.f1_score(y_true=y_test, y_pred=y_pred, average=None)\n",
    "mcc = metrics.matthews_corrcoef(y_true=y_test, y_pred=y_pred)\n",
    "\n",
    "print(f\"Accuracy: {acc:.2f}\")\n",
    "print(f\"F1: {f1[0]:.2f} {f1[1]:.2f} {f1[2]:.2f}\")\n",
    "print(f\"MCC: {mcc:.2f}\")"
   ]
  },
  {
   "cell_type": "code",
   "execution_count": 6,
   "id": "4f2a2e44-9c20-48db-8391-0a7e86fce341",
   "metadata": {},
   "outputs": [
    {
     "name": "stdout",
     "output_type": "stream",
     "text": [
      "Accuracy: 0.96 +- 0.02\n",
      "      F1: 0.96 +- 0.03\n",
      "     MCC: 0.94 +- 0.04\n"
     ]
    }
   ],
   "source": [
    "clf = SVC(kernel='rbf', C=1.0, gamma=0.8, random_state=seed)\n",
    "cv = StratifiedKFold(n_splits=5, shuffle=True, random_state=seed)\n",
    "score = cross_validate(\n",
    "        clf, X, y, scoring=[\"balanced_accuracy\", \"f1_macro\", \"matthews_corrcoef\"], n_jobs=1, verbose=0, cv=cv,\n",
    ")\n",
    "\n",
    "\n",
    "print_scores(score)"
   ]
  },
  {
   "cell_type": "markdown",
   "id": "07386bc4-f112-4839-a309-ba0ea37defe3",
   "metadata": {
    "tags": []
   },
   "source": [
    "# QKE-SVM"
   ]
  },
  {
   "cell_type": "code",
   "execution_count": 7,
   "id": "ac3de91c-75e7-46bc-9807-f31f873cd69f",
   "metadata": {},
   "outputs": [
    {
     "name": "stdout",
     "output_type": "stream",
     "text": [
      "     ┌───┐ ┌────────────┐              \n",
      "q_0: ┤ H ├─┤ Rz(x[0]*α) ├──■────────■──\n",
      "     ├───┤ ├────────────┤  │        │  \n",
      "q_1: ┤ H ├─┤ Rz(x[1]*α) ├──■──■─────┼──\n",
      "     ├───┤ ├────────────┤     │     │  \n",
      "q_2: ┤ H ├─┤ Rz(x[2]*α) ├─────■──■──┼──\n",
      "     ├───┤ ├────────────┤        │  │  \n",
      "q_3: ┤ H ├─┤ Rz(x[3]*α) ├────────■──■──\n",
      "     └───┘ └────────────┘              \n",
      "Accuracy: 0.96 +- 0.02\n",
      "      F1: 0.96 +- 0.03\n",
      "     MCC: 0.94 +- 0.04\n"
     ]
    }
   ],
   "source": [
    "alpha = 2.0\n",
    "fm = QuantumFeatureMap(\n",
    "    num_features=len(X[0]), \n",
    "    num_qubits=4,\n",
    "    num_layers=1,\n",
    "    gates=['H', 'RZ', 'CZ'], entanglement='ring',\n",
    ")\n",
    "print(fm.draw(plot_barriers=False, fold=120))\n",
    "\n",
    "qsvc = OneVsRestClassifier(QKSVC(feature_map=fm, alpha=alpha, C=1.0, random_state=seed))\n",
    "cv = StratifiedKFold(n_splits=5, shuffle=True, random_state=seed)\n",
    "score = cross_validate(\n",
    "    qsvc, X, y, scoring=[\"balanced_accuracy\", \"f1_macro\", \"matthews_corrcoef\"], n_jobs=1, verbose=0, cv=cv,\n",
    ")\n",
    "print_scores(score)"
   ]
  },
  {
   "cell_type": "code",
   "execution_count": 8,
   "id": "11575912-cbb2-41c3-86d3-d70656c4f15b",
   "metadata": {},
   "outputs": [
    {
     "name": "stdout",
     "output_type": "stream",
     "text": [
      "     ┌───┐ ┌────────────┐              \n",
      "q_0: ┤ H ├─┤ Rz(x[0]*α) ├──■────────■──\n",
      "     ├───┤ ├────────────┤  │        │  \n",
      "q_1: ┤ H ├─┤ Rz(x[1]*α) ├──■──■─────┼──\n",
      "     ├───┤ ├────────────┤     │     │  \n",
      "q_2: ┤ H ├─┤ Rz(x[2]*α) ├─────■──■──┼──\n",
      "     ├───┤ ├────────────┤        │  │  \n",
      "q_3: ┤ H ├─┤ Rz(x[3]*α) ├────────■──■──\n",
      "     └───┘ └────────────┘              \n",
      "Accuracy: 0.96 +- 0.02\n",
      "      F1: 0.96 +- 0.03\n",
      "     MCC: 0.94 +- 0.04\n"
     ]
    }
   ],
   "source": [
    "alpha = 2.5\n",
    "fm = QuantumFeatureMap(\n",
    "    num_features=len(X[0]), \n",
    "    num_qubits=4,\n",
    "    num_layers=1,\n",
    "    gates=['H', 'RZ', 'CZ'], entanglement='ring',\n",
    ")\n",
    "print(fm.draw(plot_barriers=False, fold=120))\n",
    "\n",
    "qsvc = OneVsRestClassifier(QKSVC(feature_map=fm, alpha=alpha, C=1.0, random_state=seed))\n",
    "cv = StratifiedKFold(n_splits=5, shuffle=True, random_state=seed)\n",
    "score = cross_validate(\n",
    "    qsvc, X, y, scoring=[\"balanced_accuracy\", \"f1_macro\", \"matthews_corrcoef\"], n_jobs=1, verbose=0, cv=cv,\n",
    ")\n",
    "print_scores(score)\n",
    "\n",
    "#        2 layers                     1 layer\n",
    "# alpha  acc           mcc\n",
    "# 0.5    0.90 +- 0.04  0.86 +- 0.05   0.89 +- 0.04  0.85 +- 0.06\n",
    "# 1.0    0.95 +- 0.02  0.92 +- 0.02   0.95 +- 0.03  0.93 +- 0.04\n",
    "# 1.5    0.96 +- 0.02  0.94 +- 0.04   0.96 +- 0.02  0.94 +- 0.04\n",
    "# 2.0    0.95 +- 0.02  0.93 +- 0.02   0.96 +- 0.02  0.94 +- 0.04\n",
    "# 2.5    0.95 +- 0.02  0.92 +- 0.02   0.96 +- 0.02  0.94 +- 0.04\n",
    "\n",
    "#           3 layers      2 layers       1 layer\n",
    "# Accuracy: 0.96 +- 0.02  0.96 +- 0.02   0.96 +- 0.02\n",
    "#       F1: 0.96 +- 0.03  0.96 +- 0.03   0.96 +- 0.03\n",
    "#      MCC: 0.94 +- 0.04  0.94 +- 0.04   0.94 +- 0.04"
   ]
  },
  {
   "cell_type": "markdown",
   "id": "da1086ed-3a70-44cd-9c78-7c930bf43e4b",
   "metadata": {},
   "source": [
    "## QKSVM GridSearch: entanglement"
   ]
  },
  {
   "cell_type": "code",
   "execution_count": 9,
   "id": "794c758e-0e4f-4542-b9fb-2263325234a7",
   "metadata": {},
   "outputs": [
    {
     "name": "stdout",
     "output_type": "stream",
     "text": [
      "CV best score: 0.9833333333333334\n",
      "CV optimal hyperparameters: {'C': 1, 'alpha': 0.8, 'feature_map': ['rx', 'cz'], 'n_layers': 3, 'n_qubits': 4}\n",
      "Train set:\n",
      "              precision    recall  f1-score   support\n",
      "\n",
      "           0       1.00      1.00      1.00        40\n",
      "           1       0.97      0.97      0.97        40\n",
      "           2       0.97      0.97      0.97        40\n",
      "\n",
      "    accuracy                           0.98       120\n",
      "   macro avg       0.98      0.98      0.98       120\n",
      "weighted avg       0.98      0.98      0.98       120\n",
      "\n",
      "Test set:\n",
      "              precision    recall  f1-score   support\n",
      "\n",
      "           0       1.00      1.00      1.00        10\n",
      "           1       1.00      0.90      0.95        10\n",
      "           2       0.91      1.00      0.95        10\n",
      "\n",
      "    accuracy                           0.97        30\n",
      "   macro avg       0.97      0.97      0.97        30\n",
      "weighted avg       0.97      0.97      0.97        30\n",
      "\n",
      "Accuracy: 0.97\n",
      "F1: 1.00 0.95 0.95\n",
      "MCC: 0.95\n"
     ]
    }
   ],
   "source": [
    "param_grid = {\n",
    "    \"alpha\": np.arange(0.8, 2.4, 0.2),\n",
    "    \"C\": [1],\n",
    "    \"n_layers\": [1, 2, 3, 4],\n",
    "    \"n_qubits\": [4],\n",
    "    \"feature_map\": [\n",
    "                    ['rx', 'cz'],\n",
    "                    ['rx', 'cx'],\n",
    "                    ['rx', 'swap'],\n",
    "                    ['rx', 'crz'],\n",
    "                    ['rx', 'crx'],\n",
    "                    ['rx', 'ry', 'cz'],\n",
    "                    ['rx', 'ry', 'cy'],\n",
    "                    ['rx', 'ry', 'swap'],\n",
    "        ]\n",
    "}\n",
    "\n",
    "gs = GridSearchCV(\n",
    "    estimator=QKSVC(entanglement='ring', random_state=seed),\n",
    "    param_grid=param_grid,\n",
    "    scoring='balanced_accuracy',\n",
    "    n_jobs=1,\n",
    "    refit=True,\n",
    "    cv=StratifiedKFold(n_splits=4, shuffle=True, random_state=seed),\n",
    ")\n",
    "\n",
    "gs.fit(X_train, y_train)\n",
    "print(f\"CV best score: {gs.best_score_}\")\n",
    "print(f\"CV optimal hyperparameters: {gs.best_params_}\")\n",
    "qsvc = OneVsRestClassifier(gs.best_estimator_)\n",
    "qsvc.fit(X_train, y_train)\n",
    "\n",
    "print('Train set:')\n",
    "y_pred = qsvc.predict(X_train)\n",
    "print(metrics.classification_report(y_true=y_train, y_pred=y_pred))\n",
    "\n",
    "print('Test set:')\n",
    "y_pred = qsvc.predict(X_test)\n",
    "print(metrics.classification_report(y_true=y_test, y_pred=y_pred))\n",
    "\n",
    "y_pred = qsvc.predict(X_test)\n",
    "acc = metrics.balanced_accuracy_score(y_true=y_test, y_pred=y_pred)\n",
    "f1  = metrics.f1_score(y_true=y_test, y_pred=y_pred, average=None)\n",
    "mcc = metrics.matthews_corrcoef(y_true=y_test, y_pred=y_pred)\n",
    "\n",
    "print(f\"Accuracy: {acc:.2f}\")\n",
    "print(f\"F1: {f1[0]:.2f} {f1[1]:.2f} {f1[2]:.2f}\")\n",
    "print(f\"MCC: {mcc:.2f}\")"
   ]
  },
  {
   "cell_type": "code",
   "execution_count": 10,
   "id": "7ef3e981-6740-459c-b314-f2179b020499",
   "metadata": {},
   "outputs": [
    {
     "name": "stdout",
     "output_type": "stream",
     "text": [
      "[  2  21  45  53  65  97 101 116 120 124 133 204 224 228 232 236]\n",
      "2 0.9833333333333334 0.016666666666666663\n",
      "{'C': 1, 'alpha': 0.8, 'feature_map': ['rx', 'cz'], 'n_layers': 3, 'n_qubits': 4}\n",
      "21 0.9833333333333334 0.016666666666666663\n",
      "{'C': 1, 'alpha': 0.8, 'feature_map': ['rx', 'ry', 'cz'], 'n_layers': 2, 'n_qubits': 4}\n",
      "45 0.9833333333333334 0.016666666666666663\n",
      "{'C': 1, 'alpha': 1.0, 'feature_map': ['rx', 'crz'], 'n_layers': 2, 'n_qubits': 4}\n",
      "53 0.9833333333333334 0.016666666666666663\n",
      "{'C': 1, 'alpha': 1.0, 'feature_map': ['rx', 'ry', 'cz'], 'n_layers': 2, 'n_qubits': 4}\n",
      "65 0.9833333333333334 0.016666666666666663\n",
      "{'C': 1, 'alpha': 1.2, 'feature_map': ['rx', 'cz'], 'n_layers': 2, 'n_qubits': 4}\n",
      "97 0.9833333333333334 0.016666666666666663\n",
      "{'C': 1, 'alpha': 1.4, 'feature_map': ['rx', 'cz'], 'n_layers': 2, 'n_qubits': 4}\n",
      "101 0.9833333333333334 0.016666666666666663\n",
      "{'C': 1, 'alpha': 1.4, 'feature_map': ['rx', 'cx'], 'n_layers': 2, 'n_qubits': 4}\n",
      "116 0.9833333333333334 0.016666666666666663\n",
      "{'C': 1, 'alpha': 1.4, 'feature_map': ['rx', 'ry', 'cz'], 'n_layers': 1, 'n_qubits': 4}\n",
      "120 0.9833333333333334 0.016666666666666663\n",
      "{'C': 1, 'alpha': 1.4, 'feature_map': ['rx', 'ry', 'cy'], 'n_layers': 1, 'n_qubits': 4}\n",
      "124 0.9833333333333334 0.016666666666666663\n",
      "{'C': 1, 'alpha': 1.4, 'feature_map': ['rx', 'ry', 'swap'], 'n_layers': 1, 'n_qubits': 4}\n",
      "133 0.9833333333333334 0.016666666666666663\n",
      "{'C': 1, 'alpha': 1.5999999999999999, 'feature_map': ['rx', 'cx'], 'n_layers': 2, 'n_qubits': 4}\n",
      "204 0.9833333333333334 0.016666666666666663\n",
      "{'C': 1, 'alpha': 1.9999999999999998, 'feature_map': ['rx', 'crz'], 'n_layers': 1, 'n_qubits': 4}\n",
      "224 0.9833333333333334 0.016666666666666663\n",
      "{'C': 1, 'alpha': 2.1999999999999997, 'feature_map': ['rx', 'cz'], 'n_layers': 1, 'n_qubits': 4}\n",
      "228 0.9833333333333334 0.016666666666666663\n",
      "{'C': 1, 'alpha': 2.1999999999999997, 'feature_map': ['rx', 'cx'], 'n_layers': 1, 'n_qubits': 4}\n",
      "232 0.9833333333333334 0.016666666666666663\n",
      "{'C': 1, 'alpha': 2.1999999999999997, 'feature_map': ['rx', 'swap'], 'n_layers': 1, 'n_qubits': 4}\n",
      "236 0.9833333333333334 0.016666666666666663\n",
      "{'C': 1, 'alpha': 2.1999999999999997, 'feature_map': ['rx', 'crz'], 'n_layers': 1, 'n_qubits': 4}\n"
     ]
    }
   ],
   "source": [
    "v = gs.cv_results_['mean_test_score']\n",
    "s = gs.cv_results_['std_test_score']\n",
    "\n",
    "idxs = np.where((v > 0.98) & (s < 0.4))[0]\n",
    "print(idxs)\n",
    "\n",
    "for i in idxs:\n",
    "    print(i, v[i], s[i])\n",
    "    print(gs.cv_results_['params'][i])"
   ]
  },
  {
   "cell_type": "code",
   "execution_count": 11,
   "id": "c484905e-2fe9-4593-b6cf-8ce9daab8ac6",
   "metadata": {},
   "outputs": [
    {
     "name": "stdout",
     "output_type": "stream",
     "text": [
      "     ┌────────────┐              ┌────────────┐              ┌────────────┐              \n",
      "q_0: ┤ Rx(x[0]*α) ├──■────────■──┤ Rx(x[0]*α) ├──■────────■──┤ Rx(x[0]*α) ├──■────────■──\n",
      "     ├────────────┤  │        │  ├────────────┤  │        │  ├────────────┤  │        │  \n",
      "q_1: ┤ Rx(x[1]*α) ├──■──■─────┼──┤ Rx(x[1]*α) ├──■──■─────┼──┤ Rx(x[1]*α) ├──■──■─────┼──\n",
      "     ├────────────┤     │     │  ├────────────┤     │     │  ├────────────┤     │     │  \n",
      "q_2: ┤ Rx(x[2]*α) ├─────■──■──┼──┤ Rx(x[2]*α) ├─────■──■──┼──┤ Rx(x[2]*α) ├─────■──■──┼──\n",
      "     ├────────────┤        │  │  ├────────────┤        │  │  ├────────────┤        │  │  \n",
      "q_3: ┤ Rx(x[3]*α) ├────────■──■──┤ Rx(x[3]*α) ├────────■──■──┤ Rx(x[3]*α) ├────────■──■──\n",
      "     └────────────┘              └────────────┘              └────────────┘              \n",
      "Train set:\n",
      "              precision    recall  f1-score   support\n",
      "\n",
      "           0       1.00      1.00      1.00        40\n",
      "           1       0.97      0.97      0.97        40\n",
      "           2       0.97      0.97      0.97        40\n",
      "\n",
      "    accuracy                           0.98       120\n",
      "   macro avg       0.98      0.98      0.98       120\n",
      "weighted avg       0.98      0.98      0.98       120\n",
      "\n",
      "Test set:\n",
      "              precision    recall  f1-score   support\n",
      "\n",
      "           0       1.00      1.00      1.00        10\n",
      "           1       1.00      0.90      0.95        10\n",
      "           2       0.91      1.00      0.95        10\n",
      "\n",
      "    accuracy                           0.97        30\n",
      "   macro avg       0.97      0.97      0.97        30\n",
      "weighted avg       0.97      0.97      0.97        30\n",
      "\n",
      "Accuracy: 0.96 +- 0.02\n",
      "      F1: 0.96 +- 0.03\n",
      "     MCC: 0.94 +- 0.04\n"
     ]
    }
   ],
   "source": [
    "alpha = 0.8\n",
    "fm = QuantumFeatureMap(\n",
    "    num_features=len(X[0]), \n",
    "    num_layers=3,\n",
    "    num_qubits=4,\n",
    "    gates=['RX', 'CZ'], entanglement='ring',\n",
    ")\n",
    "print(fm.draw(plot_barriers=False, fold=120))\n",
    "\n",
    "qsvc = OneVsRestClassifier(QKSVC(feature_map=fm, alpha=alpha, C=1.0, random_state=seed))\n",
    "qsvc.fit(X_train, y_train)\n",
    "\n",
    "print('Train set:')\n",
    "y_pred = qsvc.predict(X_train)\n",
    "print(metrics.classification_report(y_true=y_train, y_pred=y_pred))\n",
    "\n",
    "print('Test set:')\n",
    "y_pred = qsvc.predict(X_test)\n",
    "print(metrics.classification_report(y_true=y_test, y_pred=y_pred))\n",
    "\n",
    "cv = StratifiedKFold(n_splits=5, shuffle=True, random_state=seed)\n",
    "score = cross_validate(\n",
    "    qsvc, X, y, scoring=[\"balanced_accuracy\", \"f1_macro\", \"matthews_corrcoef\"], n_jobs=1, verbose=0, cv=cv,\n",
    ")\n",
    "print_scores(score)"
   ]
  },
  {
   "cell_type": "markdown",
   "id": "06ccbd60-f1e4-49a4-be73-8ad6de307264",
   "metadata": {},
   "source": [
    "## QKSVM GridSearch: number of qubits"
   ]
  },
  {
   "cell_type": "code",
   "execution_count": 12,
   "id": "0e27edb9-32bd-4be3-9406-7f5838ebc37b",
   "metadata": {},
   "outputs": [
    {
     "name": "stdout",
     "output_type": "stream",
     "text": [
      "CV best score: 0.9833333333333334\n",
      "CV optimal hyperparameters: {'C': 1, 'alpha': 0.8, 'feature_map': ['rx', 'cz'], 'n_layers': 2, 'n_qubits': 8}\n",
      "Train set:\n",
      "              precision    recall  f1-score   support\n",
      "\n",
      "           0       1.00      1.00      1.00        40\n",
      "           1       0.97      0.97      0.97        40\n",
      "           2       0.97      0.97      0.97        40\n",
      "\n",
      "    accuracy                           0.98       120\n",
      "   macro avg       0.98      0.98      0.98       120\n",
      "weighted avg       0.98      0.98      0.98       120\n",
      "\n",
      "Test set:\n",
      "              precision    recall  f1-score   support\n",
      "\n",
      "           0       1.00      1.00      1.00        10\n",
      "           1       1.00      0.90      0.95        10\n",
      "           2       0.91      1.00      0.95        10\n",
      "\n",
      "    accuracy                           0.97        30\n",
      "   macro avg       0.97      0.97      0.97        30\n",
      "weighted avg       0.97      0.97      0.97        30\n",
      "\n",
      "Accuracy: 0.97\n",
      "F1: 1.00 0.95 0.95\n",
      "MCC: 0.95\n"
     ]
    }
   ],
   "source": [
    "param_grid = {\n",
    "    \"alpha\": np.arange(0.8, 3.2, 0.2),\n",
    "    \"C\": [1],\n",
    "    \"n_layers\": [1, 2, 3, 4],\n",
    "    \"n_qubits\": [4, 5, 6, 7, 8],\n",
    "    \"feature_map\": [\n",
    "                    ['rx', 'cz'],\n",
    "                   ],\n",
    "}\n",
    "\n",
    "gs = GridSearchCV(\n",
    "    estimator=QKSVC(entanglement='linear', random_state=seed),\n",
    "    param_grid=param_grid,\n",
    "    scoring='balanced_accuracy',\n",
    "    n_jobs=1,\n",
    "    refit=True,\n",
    "    cv=StratifiedKFold(n_splits=5, shuffle=True, random_state=seed),\n",
    ")\n",
    "\n",
    "gs.fit(X_train, y_train)\n",
    "print(f\"CV best score: {gs.best_score_}\")\n",
    "print(f\"CV optimal hyperparameters: {gs.best_params_}\")\n",
    "qsvc = OneVsRestClassifier(gs.best_estimator_)\n",
    "qsvc.fit(X_train, y_train)\n",
    "\n",
    "print('Train set:')\n",
    "y_pred = qsvc.predict(X_train)\n",
    "print(metrics.classification_report(y_true=y_train, y_pred=y_pred))\n",
    "\n",
    "print('Test set:')\n",
    "y_pred = qsvc.predict(X_test)\n",
    "print(metrics.classification_report(y_true=y_test, y_pred=y_pred))\n",
    "\n",
    "y_pred = qsvc.predict(X_test)\n",
    "acc = metrics.balanced_accuracy_score(y_true=y_test, y_pred=y_pred)\n",
    "f1  = metrics.f1_score(y_true=y_test, y_pred=y_pred, average=None)\n",
    "mcc = metrics.matthews_corrcoef(y_true=y_test, y_pred=y_pred)\n",
    "\n",
    "print(f\"Accuracy: {acc:.2f}\")\n",
    "print(f\"F1: {f1[0]:.2f} {f1[1]:.2f} {f1[2]:.2f}\")\n",
    "print(f\"MCC: {mcc:.2f}\")"
   ]
  },
  {
   "cell_type": "code",
   "execution_count": 13,
   "id": "fc414fb2-c1ab-4d41-ae84-050076849cd5",
   "metadata": {},
   "outputs": [
    {
     "name": "stdout",
     "output_type": "stream",
     "text": [
      "[  9  10  45  63  64  83  84 140]\n",
      "9 0.9833333333333334 0.020412414523193135\n",
      "{'C': 1, 'alpha': 0.8, 'feature_map': ['rx', 'cz'], 'n_layers': 2, 'n_qubits': 8}\n",
      "10 0.9833333333333334 0.020412414523193135\n",
      "{'C': 1, 'alpha': 0.8, 'feature_map': ['rx', 'cz'], 'n_layers': 3, 'n_qubits': 4}\n",
      "45 0.9833333333333334 0.020412414523193135\n",
      "{'C': 1, 'alpha': 1.2, 'feature_map': ['rx', 'cz'], 'n_layers': 2, 'n_qubits': 4}\n",
      "63 0.9833333333333334 0.020412414523193135\n",
      "{'C': 1, 'alpha': 1.4, 'feature_map': ['rx', 'cz'], 'n_layers': 1, 'n_qubits': 7}\n",
      "64 0.9833333333333334 0.020412414523193135\n",
      "{'C': 1, 'alpha': 1.4, 'feature_map': ['rx', 'cz'], 'n_layers': 1, 'n_qubits': 8}\n",
      "83 0.9833333333333334 0.020412414523193135\n",
      "{'C': 1, 'alpha': 1.5999999999999999, 'feature_map': ['rx', 'cz'], 'n_layers': 1, 'n_qubits': 7}\n",
      "84 0.9833333333333334 0.020412414523193135\n",
      "{'C': 1, 'alpha': 1.5999999999999999, 'feature_map': ['rx', 'cz'], 'n_layers': 1, 'n_qubits': 8}\n",
      "140 0.9833333333333334 0.020412414523193135\n",
      "{'C': 1, 'alpha': 2.1999999999999997, 'feature_map': ['rx', 'cz'], 'n_layers': 1, 'n_qubits': 4}\n"
     ]
    }
   ],
   "source": [
    "v = gs.cv_results_['mean_test_score']\n",
    "s = gs.cv_results_['std_test_score']\n",
    "\n",
    "idxs = np.where((v > 0.98) & (s < 0.4))[0]\n",
    "print(idxs)\n",
    "\n",
    "for i in idxs:\n",
    "    print(i, v[i], s[i])\n",
    "    print(gs.cv_results_['params'][i])"
   ]
  },
  {
   "cell_type": "code",
   "execution_count": 14,
   "id": "f0187b34-3f9b-46f1-b7d6-8081a1563271",
   "metadata": {},
   "outputs": [
    {
     "name": "stdout",
     "output_type": "stream",
     "text": [
      "     ┌────────────┐                       ┌────────────┐                       \n",
      "q_0: ┤ Rx(x[0]*α) ├──■────────────────────┤ Rx(x[0]*α) ├──■────────────────────\n",
      "     ├────────────┤  │                    ├────────────┤  │                    \n",
      "q_1: ┤ Rx(x[1]*α) ├──■──■─────────────────┤ Rx(x[1]*α) ├──■──■─────────────────\n",
      "     ├────────────┤     │                 ├────────────┤     │                 \n",
      "q_2: ┤ Rx(x[2]*α) ├─────■──■──────────────┤ Rx(x[2]*α) ├─────■──■──────────────\n",
      "     ├────────────┤        │              ├────────────┤        │              \n",
      "q_3: ┤ Rx(x[3]*α) ├────────■──■───────────┤ Rx(x[3]*α) ├────────■──■───────────\n",
      "     ├────────────┤           │           ├────────────┤           │           \n",
      "q_4: ┤ Rx(x[0]*α) ├───────────■──■────────┤ Rx(x[0]*α) ├───────────■──■────────\n",
      "     ├────────────┤              │        ├────────────┤              │        \n",
      "q_5: ┤ Rx(x[1]*α) ├──────────────■──■─────┤ Rx(x[1]*α) ├──────────────■──■─────\n",
      "     ├────────────┤                 │     ├────────────┤                 │     \n",
      "q_6: ┤ Rx(x[2]*α) ├─────────────────■──■──┤ Rx(x[2]*α) ├─────────────────■──■──\n",
      "     ├────────────┤                    │  ├────────────┤                    │  \n",
      "q_7: ┤ Rx(x[3]*α) ├────────────────────■──┤ Rx(x[3]*α) ├────────────────────■──\n",
      "     └────────────┘                       └────────────┘                       \n",
      "Accuracy: 0.96 +- 0.02\n",
      "      F1: 0.96 +- 0.03\n",
      "     MCC: 0.94 +- 0.04\n"
     ]
    }
   ],
   "source": [
    "alpha = 0.8\n",
    "fm = QuantumFeatureMap(\n",
    "    num_features=len(X[0]), \n",
    "    num_layers=2,\n",
    "    num_qubits=8,\n",
    "    gates=['RX', 'CZ'], entanglement='linear',\n",
    ")\n",
    "print(fm.draw(plot_barriers=False, fold=120))\n",
    "\n",
    "qsvc = OneVsRestClassifier(QKSVC(feature_map=fm, alpha=alpha, C=1.0, random_state=seed))\n",
    "cv = StratifiedKFold(n_splits=5, shuffle=True, random_state=seed)\n",
    "score = cross_validate(\n",
    "    qsvc, X, y, scoring=[\"balanced_accuracy\", \"f1_macro\", \"matthews_corrcoef\"], n_jobs=1, verbose=0, cv=cv,\n",
    ")\n",
    "print_scores(score)"
   ]
  },
  {
   "cell_type": "code",
   "execution_count": null,
   "id": "58fef52d-5df6-4719-be64-24b470f00000",
   "metadata": {},
   "outputs": [],
   "source": []
  }
 ],
 "metadata": {
  "kernelspec": {
   "display_name": "qksvm",
   "language": "python",
   "name": "qksvm"
  },
  "language_info": {
   "codemirror_mode": {
    "name": "ipython",
    "version": 3
   },
   "file_extension": ".py",
   "mimetype": "text/x-python",
   "name": "python",
   "nbconvert_exporter": "python",
   "pygments_lexer": "ipython3",
   "version": "3.10.4"
  }
 },
 "nbformat": 4,
 "nbformat_minor": 5
}
